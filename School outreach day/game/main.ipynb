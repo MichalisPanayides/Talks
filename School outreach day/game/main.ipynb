{
 "cells": [
  {
   "cell_type": "code",
   "execution_count": 1,
   "metadata": {},
   "outputs": [],
   "source": [
    "import csv\n",
    "\n",
    "import numpy as np"
   ]
  },
  {
   "cell_type": "code",
   "execution_count": 2,
   "metadata": {},
   "outputs": [],
   "source": [
    "def get_two_thirds_of_the_average(entries):\n",
    "    \"\"\"\n",
    "    Get the 2/3-rds of the average of a list of integers\n",
    "    \"\"\"\n",
    "    if len(entries) == 0:\n",
    "        return None\n",
    "    return np.mean(entries) * 2 / 3"
   ]
  },
  {
   "cell_type": "code",
   "execution_count": 3,
   "metadata": {},
   "outputs": [],
   "source": [
    "def get_winners_id(entries, outcome):\n",
    "    \"\"\"\n",
    "    Get the index of the entry that is closest to the 2/3-rds of the average\n",
    "    \"\"\"\n",
    "    min_diff = np.inf\n",
    "    for index, entry in enumerate(entries):\n",
    "        diff = np.abs(entry - outcome)\n",
    "        if diff < min_diff:\n",
    "            min_diff = diff\n",
    "            winners = [index]\n",
    "        elif diff == min_diff:\n",
    "            winners.append(index)\n",
    "    return winners if min_diff < np.inf else None"
   ]
  },
  {
   "cell_type": "markdown",
   "metadata": {},
   "source": [
    "# Round 1"
   ]
  },
  {
   "cell_type": "markdown",
   "metadata": {},
   "source": [
    "### Read in answers"
   ]
  },
  {
   "cell_type": "code",
   "execution_count": 8,
   "metadata": {},
   "outputs": [],
   "source": [
    "# Read file called \"answers1.csv\" and store it in a variable called \"answers\"\n",
    "with open('answers1.csv', 'r') as f:\n",
    "    csv_contents = list(csv.reader(f))\n",
    "    answers = [float(row[0]) for row in csv_contents]"
   ]
  },
  {
   "cell_type": "markdown",
   "metadata": {},
   "source": [
    "### $2/3$rds of the average"
   ]
  },
  {
   "cell_type": "code",
   "execution_count": 5,
   "metadata": {},
   "outputs": [
    {
     "name": "stdout",
     "output_type": "stream",
     "text": [
      "2/3-rds of the average: 30.555555555555557\n",
      "\n",
      "Closest number to 2/3-rds of the average: 32.0\n",
      "\n",
      "The winners are in positions: 18 19\n"
     ]
    }
   ],
   "source": [
    "outcome = get_two_thirds_of_the_average(answers)\n",
    "print(\"2/3-rds of the average:\", outcome, end=\"\\n\\n\")\n",
    "winners = get_winners_id(answers, outcome)\n",
    "print(f\"Closest number to 2/3-rds of the average:\", answers[winners[0]], end=\"\\n\\n\")\n",
    "print(\"The winners are in positions:\", *list(win + 1 for win in winners))"
   ]
  },
  {
   "attachments": {
    "image.png": {
     "image/png": "[encoded data removed]"
    }
   },
   "cell_type": "markdown",
   "metadata": {},
   "source": [
    "![image.png](attachment:image.png)"
   ]
  },
  {
   "cell_type": "markdown",
   "metadata": {},
   "source": [
    "# Round 2"
   ]
  },
  {
   "cell_type": "markdown",
   "metadata": {},
   "source": [
    "### Read in answers"
   ]
  },
  {
   "cell_type": "code",
   "execution_count": 9,
   "metadata": {},
   "outputs": [],
   "source": [
    "# Read file called \"answers2.csv\" and store it in a variable called \"answers\"\n",
    "with open('answers2.csv', 'r') as f:\n",
    "    csv_contents = list(csv.reader(f))\n",
    "    answers = [float(row[0]) for row in csv_contents]"
   ]
  },
  {
   "cell_type": "markdown",
   "metadata": {},
   "source": [
    "### $2/3$rds of the average"
   ]
  },
  {
   "cell_type": "code",
   "execution_count": 11,
   "metadata": {},
   "outputs": [
    {
     "name": "stdout",
     "output_type": "stream",
     "text": [
      "Two-thirds of the average: 20.68888888888889\n",
      "\n",
      "Closest number to two-thirds of the average: 22.0\n",
      "\n",
      "The winners are in positions: 12\n",
      "\n"
     ]
    }
   ],
   "source": [
    "outcome = get_two_thirds_of_the_average(answers)\n",
    "print(\"Two-thirds of the average:\", outcome, end=\"\\n\\n\")\n",
    "winners = get_winners_id(answers, outcome)\n",
    "print(f\"Closest number to two-thirds of the average:\", answers[winners[0]], end=\"\\n\\n\")\n",
    "print(\"The winners are in positions:\", *list(win + 1 for win in winners), end=\"\\n\\n\")"
   ]
  },
  {
   "cell_type": "code",
   "execution_count": null,
   "metadata": {},
   "outputs": [],
   "source": []
  },
  {
   "cell_type": "code",
   "execution_count": null,
   "metadata": {},
   "outputs": [],
   "source": []
  },
  {
   "cell_type": "code",
   "execution_count": null,
   "metadata": {},
   "outputs": [],
   "source": []
  },
  {
   "cell_type": "code",
   "execution_count": null,
   "metadata": {},
   "outputs": [],
   "source": []
  },
  {
   "cell_type": "code",
   "execution_count": null,
   "metadata": {},
   "outputs": [],
   "source": []
  },
  {
   "cell_type": "code",
   "execution_count": null,
   "metadata": {},
   "outputs": [],
   "source": []
  },
  {
   "cell_type": "code",
   "execution_count": null,
   "metadata": {},
   "outputs": [],
   "source": []
  },
  {
   "cell_type": "code",
   "execution_count": null,
   "metadata": {},
   "outputs": [],
   "source": []
  },
  {
   "cell_type": "code",
   "execution_count": null,
   "metadata": {},
   "outputs": [],
   "source": []
  },
  {
   "cell_type": "code",
   "execution_count": null,
   "metadata": {},
   "outputs": [],
   "source": []
  },
  {
   "cell_type": "code",
   "execution_count": null,
   "metadata": {},
   "outputs": [],
   "source": []
  },
  {
   "cell_type": "code",
   "execution_count": null,
   "metadata": {},
   "outputs": [],
   "source": []
  },
  {
   "cell_type": "code",
   "execution_count": null,
   "metadata": {},
   "outputs": [],
   "source": []
  }
 ],
 "metadata": {
  "kernelspec": {
   "display_name": "Python 3 (ipykernel)",
   "language": "python",
   "name": "python3"
  },
  "language_info": {
   "codemirror_mode": {
    "name": "ipython",
    "version": 3
   },
   "file_extension": ".py",
   "mimetype": "text/x-python",
   "name": "python",
   "nbconvert_exporter": "python",
   "pygments_lexer": "ipython3",
   "version": "3.8.13"
  },
  "vscode": {
   "interpreter": {
    "hash": "1adbad69f80dcce19114d6adc47e51e1e49901953804ab4006ee3b03934f2a03"
   }
  }
 },
 "nbformat": 4,
 "nbformat_minor": 2
}
