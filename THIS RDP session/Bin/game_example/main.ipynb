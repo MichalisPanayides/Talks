{
 "cells": [
  {
   "cell_type": "code",
   "execution_count": 2,
   "metadata": {},
   "outputs": [],
   "source": [
    "import nashpy as nash\n",
    "import numpy as np"
   ]
  },
  {
   "cell_type": "code",
   "execution_count": 4,
   "metadata": {},
   "outputs": [],
   "source": [
    "A = np.array([\n",
    "    [8.39, 8.39, 8.39, 8.39],\n",
    "    [8.96, 8.85, 8.65, 8.45],\n",
    "    [9.95, 9.87, 9.6 , 9.2 ],\n",
    "    [4.37, 5.11, 8.6 , 9.91],\n",
    "])\n",
    "\n",
    "B = np.array([\n",
    "    [8.39, 8.96, 9.95, 4.37],\n",
    "    [8.39, 8.85, 9.87, 5.11],\n",
    "    [8.39, 8.65, 9.6,  8.6 ],\n",
    "    [8.39, 8.45, 9.2,  9.91],\n",
    "])"
   ]
  },
  {
   "cell_type": "code",
   "execution_count": 5,
   "metadata": {},
   "outputs": [],
   "source": [
    "game = nash.Game(A, B)"
   ]
  },
  {
   "cell_type": "code",
   "execution_count": 19,
   "metadata": {},
   "outputs": [
    {
     "data": {
      "text/plain": [
       "((array([0., 0., 1., 0.]), array([0., 0., 1., 0.])),\n",
       " (array([0., 0., 1., 0.]), array([0., 0., 1., 0.])),\n",
       " (array([0., 0., 1., 0.]), array([0., 0., 1., 0.])),\n",
       " (array([0., 0., 0., 1.]), array([0., 0., 0., 1.])),\n",
       " (array([0., 0., 1., 0.]), array([0., 0., 1., 0.])),\n",
       " (array([0., 0., 1., 0.]), array([0., 0., 1., 0.])),\n",
       " (array([0., 0., 1., 0.]), array([0., 0., 1., 0.])),\n",
       " (array([0., 0., 0., 1.]), array([0., 0., 0., 1.])))"
      ]
     },
     "execution_count": 19,
     "metadata": {},
     "output_type": "execute_result"
    }
   ],
   "source": [
    "tuple(game.lemke_howson_enumeration())"
   ]
  },
  {
   "cell_type": "code",
   "execution_count": 20,
   "metadata": {},
   "outputs": [
    {
     "data": {
      "text/plain": [
       "((array([0., 0., 1., 0.]), array([0., 0., 1., 0.])),\n",
       " (array([0., 0., 0., 1.]), array([0., 0., 0., 1.])),\n",
       " (array([2.98447050e-17, 0.00000000e+00, 4.15204678e-01, 5.84795322e-01]),\n",
       "  array([2.98447050e-17, 0.00000000e+00, 4.15204678e-01, 5.84795322e-01])))"
      ]
     },
     "execution_count": 20,
     "metadata": {},
     "output_type": "execute_result"
    }
   ],
   "source": [
    "tuple(game.support_enumeration())"
   ]
  },
  {
   "cell_type": "code",
   "execution_count": null,
   "metadata": {},
   "outputs": [],
   "source": []
  }
 ],
 "metadata": {
  "kernelspec": {
   "display_name": "thesis_env",
   "language": "python",
   "name": "python3"
  },
  "language_info": {
   "codemirror_mode": {
    "name": "ipython",
    "version": 3
   },
   "file_extension": ".py",
   "mimetype": "text/x-python",
   "name": "python",
   "nbconvert_exporter": "python",
   "pygments_lexer": "ipython3",
   "version": "3.9.0"
  },
  "orig_nbformat": 4
 },
 "nbformat": 4,
 "nbformat_minor": 2
}
