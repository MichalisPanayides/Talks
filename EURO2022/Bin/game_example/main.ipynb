{
 "cells": [
  {
   "cell_type": "code",
   "execution_count": 1,
   "metadata": {},
   "outputs": [
    {
     "name": "stdout",
     "output_type": "stream",
     "text": [
      "R =  [[0.5        0.06399852 0.         0.        ]\n",
      " [0.93600148 0.5        0.21457542 0.04051262]\n",
      " [1.         0.78542458 0.5        0.28609774]\n",
      " [1.         0.95948738 0.71390226 0.5       ]]\n",
      "A =  [[0.99998394 0.99998394 0.99998394 0.99998394]\n",
      " [0.99998955 0.99998848 0.99998649 0.9999845 ]\n",
      " [0.99999952 0.9999987  0.99999596 0.99999199]\n",
      " [0.99994372 0.99995113 0.99998603 0.99999911]]\n",
      "B =  [[0.99998394 0.99998955 0.99999952 0.99994372]\n",
      " [0.99998394 0.99998848 0.9999987  0.99995113]\n",
      " [0.99998394 0.99998649 0.99999596 0.99998603]\n",
      " [0.99998394 0.9999845  0.99999199 0.99999911]]\n",
      "N.E. =  ((array([0., 0., 1., 0.]), array([0., 0., 1., 0.])), (array([0., 0., 0., 1.]), array([0., 0., 0., 1.])), (array([0.        , 0.        , 0.41775878, 0.58224122]), array([0.        , 0.        , 0.41775878, 0.58224122])))\n"
     ]
    }
   ],
   "source": [
    "import matplotlib.pyplot as plt\n",
    "import nashpy as nash\n",
    "\n",
    "import ambulance_game as abg\n",
    "\n",
    "lambda_2 = 2\n",
    "alpha = 0\n",
    "target = 3.11\n",
    "\n",
    "lambda_1_1 = 1\n",
    "mu_1 = 1\n",
    "num_of_servers_1 = 3\n",
    "system_capacity_1 = 4\n",
    "buffer_capacity_1 = 4\n",
    "\n",
    "lambda_1_2 = 1\n",
    "mu_2 = 1\n",
    "num_of_servers_2 = 3\n",
    "system_capacity_2 = 4\n",
    "buffer_capacity_2 = 4\n",
    "\n",
    "A, B, R = abg.game.get_payoff_matrices(\n",
    "    lambda_2=lambda_2,\n",
    "    lambda_1_1=lambda_1_1,\n",
    "    lambda_1_2=lambda_1_2,\n",
    "    mu_1=mu_1,\n",
    "    mu_2=mu_2,\n",
    "    num_of_servers_1=num_of_servers_1,\n",
    "    num_of_servers_2=num_of_servers_2,\n",
    "    system_capacity_1=system_capacity_1,\n",
    "    system_capacity_2=system_capacity_2,\n",
    "    buffer_capacity_1=buffer_capacity_1,\n",
    "    buffer_capacity_2=buffer_capacity_2,\n",
    "    target=target,\n",
    "    alpha=alpha,\n",
    ")\n",
    "A += 1\n",
    "B += 1\n",
    "\n",
    "print(\"R = \", R)\n",
    "print(\"A = \", A)\n",
    "print(\"B = \", B)\n",
    "\n",
    "game = nash.Game(A, B)\n",
    "print(\"N.E. = \", tuple(game.support_enumeration()))\n"
   ]
  },
  {
   "cell_type": "code",
   "execution_count": 20,
   "metadata": {},
   "outputs": [
    {
     "data": {
      "text/plain": [
       "array([[8.39356364, 8.39356364, 8.39356364, 8.39356364],\n",
       "       [8.95516213, 8.84828864, 8.64909077, 8.44978331],\n",
       "       [9.95232671, 9.87012397, 9.59602639, 9.19880488],\n",
       "       [4.37175089, 5.11267151, 8.60282647, 9.91142703]])"
      ]
     },
     "execution_count": 20,
     "metadata": {},
     "output_type": "execute_result"
    }
   ],
   "source": [
    "100000 * (A - 0.9999)"
   ]
  },
  {
   "cell_type": "code",
   "execution_count": 19,
   "metadata": {},
   "outputs": [
    {
     "data": {
      "text/plain": [
       "array([[8.39356364, 8.95516213, 9.95232671, 4.37175089],\n",
       "       [8.39356364, 8.84828864, 9.87012397, 5.11267151],\n",
       "       [8.39356364, 8.64909077, 9.59602639, 8.60282647],\n",
       "       [8.39356364, 8.44978331, 9.19880488, 9.91142703]])"
      ]
     },
     "execution_count": 19,
     "metadata": {},
     "output_type": "execute_result"
    }
   ],
   "source": [
    "100000 * (B - 0.9999)"
   ]
  },
  {
   "cell_type": "code",
   "execution_count": 22,
   "metadata": {},
   "outputs": [],
   "source": [
    "import numpy as np"
   ]
  },
  {
   "cell_type": "code",
   "execution_count": 31,
   "metadata": {},
   "outputs": [
    {
     "data": {
      "text/plain": [
       "array([[8.39, 8.96, 9.95, 4.37],\n",
       "       [8.39, 8.85, 9.87, 5.11],\n",
       "       [8.39, 8.65, 9.6 , 8.6 ],\n",
       "       [8.39, 8.45, 9.2 , 9.91]])"
      ]
     },
     "execution_count": 31,
     "metadata": {},
     "output_type": "execute_result"
    }
   ],
   "source": [
    "np.round(100000 * (B - 0.9999), 2)"
   ]
  },
  {
   "cell_type": "code",
   "execution_count": null,
   "metadata": {},
   "outputs": [],
   "source": []
  }
 ],
 "metadata": {
  "interpreter": {
   "hash": "1adbad69f80dcce19114d6adc47e51e1e49901953804ab4006ee3b03934f2a03"
  },
  "kernelspec": {
   "display_name": "Python 3.8.12 ('AmbulanceGame')",
   "language": "python",
   "name": "python3"
  },
  "language_info": {
   "codemirror_mode": {
    "name": "ipython",
    "version": 3
   },
   "file_extension": ".py",
   "mimetype": "text/x-python",
   "name": "python",
   "nbconvert_exporter": "python",
   "pygments_lexer": "ipython3",
   "version": "3.8.12"
  },
  "orig_nbformat": 4
 },
 "nbformat": 4,
 "nbformat_minor": 2
}
